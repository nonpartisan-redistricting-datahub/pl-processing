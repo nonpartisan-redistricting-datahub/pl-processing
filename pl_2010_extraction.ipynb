{
 "cells": [
  {
   "cell_type": "markdown",
   "id": "6594e91c",
   "metadata": {},
   "source": [
    "Import all necessary libraries and set pandas options"
   ]
  },
  {
   "cell_type": "code",
   "execution_count": null,
   "id": "eaa95de1",
   "metadata": {},
   "outputs": [],
   "source": [
    "import pandas as pd\n",
    "import numpy as np\n",
    "import requests\n",
    "\n",
    "pd.set_option('display.max_rows', None)\n",
    "pd.set_option('display.max_columns', None)\n",
    "pd.set_option('display.width', None)\n",
    "pd.set_option('display.max_colwidth', None)   "
   ]
  },
  {
   "cell_type": "markdown",
   "id": "aefaecfd",
   "metadata": {},
   "source": [
    "Define a list of variables that you can pull from the PL data that is available on the API. I would recommend also pulling the 'NAME' variable, so you have a textual description. Below I have instantiated a sample list which includes NAME and the two total population fields for P2 (total population by race, with ethnicity) and P4 (total VAP by race, with ethnicity). Feel free to add or remove any variables as you see fit. "
   ]
  },
  {
   "cell_type": "code",
   "execution_count": null,
   "id": "4121a3be",
   "metadata": {},
   "outputs": [],
   "source": [
    "variables = ['NAME','P002001','P004001']"
   ]
  },
  {
   "cell_type": "markdown",
   "id": "985947ac",
   "metadata": {},
   "source": [
    "The function pulls 2010 data and returns it as a data frame. It requires a FIPS code for the state as a string (e.g. '10' for Delaware), a geography specification as a string (e.g. 'cnty' or 'place' for county or place, respectively. There are two default inputs as well: variables (a list of variables, which is coded in the previous cell, but if you wanted to hard code this into the function that would also work and remove it as an input), and a Census API Key. If you do not yet have a Census API key, you can get one here (https://api.census.gov/data/key_signup.html) and they will email you a key that you can insert as a string to replace 'YOUR_KEY_HERE'."
   ]
  },
  {
   "cell_type": "code",
   "execution_count": null,
   "id": "e901d57d",
   "metadata": {},
   "outputs": [],
   "source": [
    "def get_2010pl_data(fip, geog, variables = variables, CENSUS_API_KEY = 'YOUR_KEY_HERE'):\n",
    "    HOST = \"https://api.census.gov/data\"\n",
    "    year = \"2010\"\n",
    "    dataset = \"dec/pl\"\n",
    "    base_url = \"/\".join([HOST, year, dataset])\n",
    "    print('starting to collect data for ' + geog + ' ' + fip)\n",
    "    predicates = {} \n",
    "    predicates[\"get\"] = \",\".join(variables)\n",
    "    if geog == 'place':\n",
    "        predicates[\"for\"] = \"place:*\"\n",
    "    if geog == 'cnty':\n",
    "        predicates[\"for\"] = \"county:*\"\n",
    "    predicates[\"in\"] = \"state:\" + fip\n",
    "    predicates[\"key\"] = CENSUS_API_KEY\n",
    "    # Write the result to a response object\n",
    "    response = requests.get(base_url, params=predicates)\n",
    "    col_names = response.json()[0]        \n",
    "    data = response.json()[1:]\n",
    "    print('done collecting data for', fip)\n",
    "    geoids = []  # initialize geoid vector\n",
    "    pop_data = pd.DataFrame(columns=col_names, data=data)\n",
    "    cols = [i for i in pop_data.columns if i not in [\"NAME\",\"place\",\"state\",\"county\"]]\n",
    "    for col in cols:\n",
    "        pop_data[col]=pd.to_numeric(pop_data[col])\n",
    "    for index, row in pop_data.iterrows():\n",
    "        # make changes here for tracts\n",
    "        if geog == 'place':\n",
    "            geoid = row[\"state\"] + row[\"place\"]\n",
    "        if geog == 'cnty':\n",
    "            geoid = row[\"state\"] + row[\"county\"]\n",
    "        geoids.append(geoid)\n",
    "    pop_data[\"GEOID\"] = geoids\n",
    "    return pop_data"
   ]
  },
  {
   "cell_type": "markdown",
   "id": "f6ab8444",
   "metadata": {},
   "source": [
    "Below is a test of the above function which calls the function for Delaware (10 FIPS) and at the place level, and then also uses the default inputs specified above. If you want to save these to CSVs, you could add that into the script instead of having it do a return (e.g. pop_data.to_csv(SPECIFIED_FILE_PATH)). You could aslo save the dataframes to a dictionary or something if you are iterating of all states at place/county level or something."
   ]
  },
  {
   "cell_type": "code",
   "execution_count": null,
   "id": "3d642a4d",
   "metadata": {},
   "outputs": [],
   "source": [
    "de = get_2010pl_data('10','place')\n",
    "de.head(5)"
   ]
  }
 ],
 "metadata": {
  "kernelspec": {
   "display_name": "Python 3",
   "language": "python",
   "name": "python3"
  },
  "language_info": {
   "codemirror_mode": {
    "name": "ipython",
    "version": 3
   },
   "file_extension": ".py",
   "mimetype": "text/x-python",
   "name": "python",
   "nbconvert_exporter": "python",
   "pygments_lexer": "ipython3",
   "version": "3.8.8"
  }
 },
 "nbformat": 4,
 "nbformat_minor": 5
}
